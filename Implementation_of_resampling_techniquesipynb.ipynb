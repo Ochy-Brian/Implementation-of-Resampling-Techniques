{
  "nbformat": 4,
  "nbformat_minor": 0,
  "metadata": {
    "colab": {
      "provenance": []
    },
    "kernelspec": {
      "name": "python3",
      "display_name": "Python 3"
    },
    "language_info": {
      "name": "python"
    }
  },
  "cells": [
    {
      "cell_type": "code",
      "source": [
        "!pip install imbalanced-learn"
      ],
      "metadata": {
        "id": "XYOlcerMGh38",
        "colab": {
          "base_uri": "https://localhost:8080/"
        },
        "outputId": "447595d5-45f1-4ade-9b92-3babb3866052"
      },
      "execution_count": 33,
      "outputs": [
        {
          "output_type": "stream",
          "name": "stdout",
          "text": [
            "Requirement already satisfied: imbalanced-learn in /usr/local/lib/python3.10/dist-packages (0.10.1)\n",
            "Requirement already satisfied: numpy>=1.17.3 in /usr/local/lib/python3.10/dist-packages (from imbalanced-learn) (1.25.2)\n",
            "Requirement already satisfied: scipy>=1.3.2 in /usr/local/lib/python3.10/dist-packages (from imbalanced-learn) (1.11.4)\n",
            "Requirement already satisfied: scikit-learn>=1.0.2 in /usr/local/lib/python3.10/dist-packages (from imbalanced-learn) (1.2.2)\n",
            "Requirement already satisfied: joblib>=1.1.1 in /usr/local/lib/python3.10/dist-packages (from imbalanced-learn) (1.3.2)\n",
            "Requirement already satisfied: threadpoolctl>=2.0.0 in /usr/local/lib/python3.10/dist-packages (from imbalanced-learn) (3.3.0)\n"
          ]
        }
      ]
    },
    {
      "cell_type": "code",
      "source": [
        "from imblearn.under_sampling import RandomUnderSampler, ClusterCentroids"
      ],
      "metadata": {
        "id": "QMDivxfRMcf6"
      },
      "execution_count": 39,
      "outputs": []
    },
    {
      "cell_type": "code",
      "source": [
        "import imblearn"
      ],
      "metadata": {
        "id": "WXYBDZGoJ7eH"
      },
      "execution_count": 35,
      "outputs": []
    },
    {
      "cell_type": "code",
      "source": [
        "import pandas as pd\n",
        "import numpy as np\n",
        "import seaborn as sns\n",
        "from sklearn.preprocessing import StandardScaler\n",
        "from imblearn.under_sampling import RandomUnderSampler, TomekLinks\n",
        "from imblearn.over_sampling import RandomOverSampler, SMOTE"
      ],
      "metadata": {
        "id": "6RXosDvo9iFw"
      },
      "execution_count": 36,
      "outputs": []
    },
    {
      "cell_type": "markdown",
      "source": [
        "Step 2:Reading the dataset"
      ],
      "metadata": {
        "id": "SQmXSjRA-OYo"
      }
    },
    {
      "cell_type": "code",
      "source": [
        "dataset = pd.read_csv('/content/creditcard.csv')\n",
        "print(\"The Number of Samples in the dataset: \", len(dataset))\n",
        "print('Class 0         :',round(dataset['Class'].value_counts()[0]\n",
        "                        /len(dataset)   * 100,2), '% of the dataset')\n",
        "print('Class 1(Fraud) :', round(dataset['Class'].value_counts()[1]\n",
        "                                / len(dataset)   * 100, 2), '% of the dataset')"
      ],
      "metadata": {
        "id": "1kyHogZO-UFZ",
        "colab": {
          "base_uri": "https://localhost:8080/"
        },
        "outputId": "162f59c0-0b91-47a5-b877-58b3cbfb33ef"
      },
      "execution_count": 37,
      "outputs": [
        {
          "output_type": "stream",
          "name": "stdout",
          "text": [
            "The Number of Samples in the dataset:  284807\n",
            "Class 0         : 99.83 % of the dataset\n",
            "Class 1(Fraud) : 0.17 % of the dataset\n"
          ]
        }
      ]
    },
    {
      "cell_type": "markdown",
      "source": [
        "Step 3: understanding of major class"
      ],
      "metadata": {
        "id": "eeA6Jz9p672k"
      }
    },
    {
      "cell_type": "code",
      "source": [
        "#we will do an undersampling of the major class where the cardholder is not fraud through this technique we will reduce the rows which come under the major class\n",
        "X_data = dataset.iloc[:, :-1]\n",
        "Y_data = dataset.iloc[:, -1:]\n",
        "\n",
        "rus = RandomUnderSampler(random_state=42)\n",
        "\n",
        "X_res, y_res = rus.fit_resample(X_data, Y_data)\n",
        "\n",
        "X_res = pd.DataFrame(X_res)\n",
        "Y_res = pd.DataFrame(y_res)\n",
        "\n",
        "print(\"After Under Sampling Of Major Class Total Samples are :\", len(Y_res))\n",
        "print('Class 0          :', round(Y_res.value_counts()/\n",
        "                                  [0] / len(Y_res) * 100, 2), '% of the dataset')\n",
        "print('Class 1 (Fraud)    :', round(Y_res.value_counts()\\\n",
        "                                    [1] / len(Y_res) * 100, 2), '% of the dataset')\n"
      ],
      "metadata": {
        "id": "DRa9A8Wf66yE",
        "colab": {
          "base_uri": "https://localhost:8080/"
        },
        "outputId": "71ccc63c-6270-4752-e53f-bc65864ace1a"
      },
      "execution_count": 38,
      "outputs": [
        {
          "output_type": "stream",
          "name": "stdout",
          "text": [
            "After Under Sampling Of Major Class Total Samples are : 984\n",
            "Class 0          : Class\n",
            "0        inf\n",
            "1        inf\n",
            "dtype: float64 % of the dataset\n",
            "Class 1 (Fraud)    : 50.0 % of the dataset\n"
          ]
        }
      ]
    },
    {
      "cell_type": "markdown",
      "source": [
        "We can see after doing undersampling the total data in the major class has reduced to 984"
      ],
      "metadata": {
        "id": "TPwzxTU3MOQk"
      }
    },
    {
      "cell_type": "markdown",
      "source": [
        "Step4:Undersampling Using Tomelinks"
      ],
      "metadata": {
        "id": "g2DMZzxHMjzr"
      }
    },
    {
      "cell_type": "code",
      "source": [
        "tl = TomekLinks()\n",
        "\n",
        "X_res, y_res = tl.fit_resample(X_data, Y_data)\n",
        "X_res = pd.DataFrame(X_res)\n",
        "Y_res = pd.DataFrame(y_res)\n",
        "\n",
        "\n",
        "print(\"After TomiLinks Under Sampling Of Major\\\n",
        "          Class Total Samples are:\", len(Y_res))\n",
        "print('Class 0   :', round(Y_res.value_counts()[0] / len(Y_res) * 100,2), '% of the dataset')\n",
        "print('Class 1(Fraud)  :', round(Y_res.value_counts()[1] / len(Y_res) * 100,2), '% of the dataset')"
      ],
      "metadata": {
        "id": "mkWh4FuOMs_p",
        "colab": {
          "base_uri": "https://localhost:8080/"
        },
        "outputId": "4e5295af-49a5-4287-8628-be0d5d92520a"
      },
      "execution_count": 32,
      "outputs": [
        {
          "output_type": "stream",
          "name": "stdout",
          "text": [
            "After TomiLinks Under Sampling Of Major          Class Total Samples are: 284736\n",
            "Class 0   : 99.83 % of the dataset\n",
            "Class 1(Fraud)  : 0.17 % of the dataset\n"
          ]
        }
      ]
    },
    {
      "cell_type": "markdown",
      "source": [
        "Step 5:Oversampling Using RandomOversampler\n",
        "We can use RandomOversampler to oversample the minority class data.Using Random Oversample the model picks randomly data points from the existing datasets"
      ],
      "metadata": {
        "id": "NEtNjxdZYsi8"
      }
    },
    {
      "cell_type": "code",
      "source": [
        "ros = RandomOverSampler(random_state=42)\n",
        "\n",
        "X_res, y_res = ros.fit_resample(X_data, Y_data)\n",
        "X_res = pd.DataFrame(X_res)\n",
        "Y_res = pd.DataFrame(y_res)\n",
        "\n",
        "print(\"After Over Sampling Of Minor Class\\\n",
        "              Total Samples are :\", len(Y_res))\n",
        "print('Class 0      :',round(Y_res.value_counts()[0]   / len(Y_res)  * 100,2),  '% of the dataset')\n",
        "print('Class 1(Fraud)  :', round(Y_res.value_counts()[1]   / len(Y_res)  * 100,2),  '% of the dataset')\n"
      ],
      "metadata": {
        "colab": {
          "base_uri": "https://localhost:8080/"
        },
        "id": "GYen8WuAY2B7",
        "outputId": "cf0ff072-539c-4e5a-a370-45bf6d5600ca"
      },
      "execution_count": 43,
      "outputs": [
        {
          "output_type": "stream",
          "name": "stdout",
          "text": [
            "After Over Sampling Of Minor Class              Total Samples are : 568630\n",
            "Class 0      : 50.0 % of the dataset\n",
            "Class 1(Fraud)  : 50.0 % of the dataset\n"
          ]
        }
      ]
    },
    {
      "cell_type": "markdown",
      "source": [
        "Step6:Oversampling UsingSMOTE\n",
        "We can use Smote to generate random sample data for the minority class.One useful thing about using SMOTE is that it creates new synthic data points for the minority class"
      ],
      "metadata": {
        "id": "hDlNBjpWjfGq"
      }
    },
    {
      "cell_type": "code",
      "source": [
        "sm = SMOTE(random_state=42)\n",
        "\n",
        "X_res, y_res = sm.fit_resample(X_data, Y_data)\n",
        "\n",
        "X_res = pd.DataFrame(X_res)\n",
        "Y_res = pd.DataFrame(y_res)\n",
        "\n",
        "print(\"After SMOTE Over Sampling Of Minor\\\n",
        "               Class Total Samples are :\", len(Y_res))\n",
        "print('Class 0       :', round(Y_res.value_counts()[0]  / len(Y_res)   * 100, 2), '% of the dataset')\n",
        "print('Class 1(Fraud)    :', round(Y_res.value_counts()[1]   / len(Y_res)  * 100, 2), '% of the dataset')"
      ],
      "metadata": {
        "colab": {
          "base_uri": "https://localhost:8080/"
        },
        "id": "4hLxkYnmkoKd",
        "outputId": "85673d15-738d-41a9-885b-0e6e9a1e2fd9"
      },
      "execution_count": 45,
      "outputs": [
        {
          "output_type": "stream",
          "name": "stdout",
          "text": [
            "After SMOTE Over Sampling Of Minor               Class Total Samples are : 568630\n",
            "Class 0       : 50.0 % of the dataset\n",
            "Class 1(Fraud)    : 50.0 % of the dataset\n"
          ]
        }
      ]
    }
  ]
}